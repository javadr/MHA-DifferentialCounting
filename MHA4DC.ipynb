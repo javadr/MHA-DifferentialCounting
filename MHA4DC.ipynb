{
  "nbformat": 4,
  "nbformat_minor": 0,
  "metadata": {
    "colab": {
      "name": "MHA4DC.ipynb",
      "provenance": [],
      "collapsed_sections": []
    },
    "kernelspec": {
      "name": "python3",
      "display_name": "Python 3"
    },
    "language_info": {
      "name": "python"
    },
    "accelerator": "GPU"
  },
  "cells": [
    {
      "cell_type": "markdown",
      "source": [
        "# Multi-Head Attention for Differential Counting \n",
        "\n",
        "The notebook trains a neural network that solves the following task:\n",
        "Given an input sequence `XY[0-5]+` where `X` and `Y` are two given digits, the task is to count the number of occurrences of `X` and `Y` in the remaining substring and then calculates the difference `#X - #Y`.\n",
        "\n",
        "```\n",
        "Example:\n",
        "Input: 1213211\n",
        "Output: 2 (3 - 1)\n",
        "```\n",
        "\n",
        "The problem is solved with a multi-head attention network."
      ],
      "metadata": {
        "id": "Lhz8vH973hSO"
      }
    },
    {
      "cell_type": "code",
      "source": [
        "#!/usr/bin/env python3\n",
        "\n",
        "import torch\n",
        "import torch.nn as nn\n",
        "import torch.nn.functional as F\n",
        "\n",
        "import matplotlib.pyplot as plt\n",
        "\n",
        "# Set random seeds\n",
        "torch.manual_seed(0)\n",
        "torch.cuda.manual_seed(0)\n",
        "\n",
        "SEQ_LEN = 5\n",
        "VOCAB_SIZE = 6\n",
        "NUM_TRAINING_STEPS = 25000\n",
        "BATCH_SIZE = 64\n",
        "device = torch.device('cuda' if torch.cuda.is_available() else 'cpu')\n",
        "if device == torch.device('cuda'):\n",
        "  !nvidia-smi"
      ],
      "metadata": {
        "id": "0e79w01b4tE7",
        "outputId": "27b60bc9-31c4-44a7-c6b2-6617400f432f",
        "colab": {
          "base_uri": "https://localhost:8080/"
        }
      },
      "execution_count": 1,
      "outputs": [
        {
          "output_type": "stream",
          "name": "stdout",
          "text": [
            "Sun Mar 13 01:28:29 2022       \n",
            "+-----------------------------------------------------------------------------+\n",
            "| NVIDIA-SMI 460.32.03    Driver Version: 460.32.03    CUDA Version: 11.2     |\n",
            "|-------------------------------+----------------------+----------------------+\n",
            "| GPU  Name        Persistence-M| Bus-Id        Disp.A | Volatile Uncorr. ECC |\n",
            "| Fan  Temp  Perf  Pwr:Usage/Cap|         Memory-Usage | GPU-Util  Compute M. |\n",
            "|                               |                      |               MIG M. |\n",
            "|===============================+======================+======================|\n",
            "|   0  Tesla K80           Off  | 00000000:00:04.0 Off |                    0 |\n",
            "| N/A   38C    P8    27W / 149W |      3MiB / 11441MiB |      0%      Default |\n",
            "|                               |                      |                  N/A |\n",
            "+-------------------------------+----------------------+----------------------+\n",
            "                                                                               \n",
            "+-----------------------------------------------------------------------------+\n",
            "| Processes:                                                                  |\n",
            "|  GPU   GI   CI        PID   Type   Process name                  GPU Memory |\n",
            "|        ID   ID                                                   Usage      |\n",
            "|=============================================================================|\n",
            "|  No running processes found                                                 |\n",
            "+-----------------------------------------------------------------------------+\n"
          ]
        }
      ]
    },
    {
      "cell_type": "code",
      "source": [
        "import time\n",
        "\n",
        "def timeSince(since: float) -> str:\n",
        "    s = time.time() - since\n",
        "    return f\"{int(s/60):2}m {int(s%60):02}s\""
      ],
      "metadata": {
        "id": "k6YadbV05Fxy"
      },
      "execution_count": 2,
      "outputs": []
    },
    {
      "cell_type": "code",
      "source": [
        "# This function generates data samples as described above\n",
        "def get_data_sample(batch_size=1):\n",
        "    random_seq = torch.randint( low=0, high=VOCAB_SIZE - 1,\n",
        "                                size=[batch_size, SEQ_LEN + 2])\n",
        "    X, Y = random_seq[:,0], random_seq[:,1]\n",
        "    occur = lambda x: (random_seq[:,2:]==x[:,None]).sum(axis=1)\n",
        "    # Calculates the ground truth output for the random sequence\n",
        "    gts = occur(X) - occur(Y)\n",
        "    # Guarantees that GT is non-negative\n",
        "    # This is a classification problem and as cross-entropy is used for the loss function,\n",
        "    # it uses the logits to find out the class which is most probable between the others.\n",
        "    # Thus, it needs the class indices as targets to compare and they would be between [0, C-1]\n",
        "    # where C is the number of classes. Therefore, it couldn't be fed by negative numbers.\n",
        "    gts += SEQ_LEN\n",
        "    return random_seq, gts"
      ],
      "metadata": {
        "id": "_9sBF76U5NIH"
      },
      "execution_count": 3,
      "outputs": []
    },
    {
      "cell_type": "code",
      "metadata": {
        "id": "lMN0I2U6I2Hu"
      },
      "source": [
        "# Network definition\n",
        "class Net(nn.Module):\n",
        "    def __init__(self, num_encoding_layers=1, num_hidden=64, num_heads=4):\n",
        "        super().__init__()\n",
        "\n",
        "        self.embedding = nn.Embedding(VOCAB_SIZE, num_hidden)\n",
        "        positional_encoding = torch.empty([SEQ_LEN + 2, 1])\n",
        "        nn.init.normal_(positional_encoding)\n",
        "        self.positional_encoding = nn.Parameter(positional_encoding,\n",
        "                                                requires_grad=True)\n",
        "        q = torch.empty([1, num_hidden])\n",
        "        nn.init.normal_(q)\n",
        "        self.q = nn.Parameter(q, requires_grad=True)\n",
        "        self.encoding_layers = [ EncodingLayer(num_hidden, num_heads).to(device)\n",
        "                                for _ in range(num_encoding_layers) ]\n",
        "        self.decoding_layer = MultiHeadAttention(num_hidden, num_heads).to(device)\n",
        "        self.c1 = nn.Conv1d(num_hidden + 1, num_hidden, 1)\n",
        "        self.fc1 = nn.Linear(num_hidden, 2 * SEQ_LEN + 1)\n",
        "\n",
        "    def forward(self, x):\n",
        "        x = self.embedding(x)\n",
        "        B = x.shape[0]\n",
        "        # The input has three parts X, Y, and substring. Thus,\n",
        "        # we need a mechanism to notify the network of the exact scope of each part,\n",
        "        # and it's the (trainable) positional encoding which is added to our representation.\n",
        "        # Imagine we just wanted to count the occurrence of a specific number,\n",
        "        # for example, number 1, in this case, the network does not need\n",
        "        # positional encoding as its order doesn't matter here.\n",
        "        positional_encoding = self.positional_encoding.unsqueeze(0)\n",
        "        positional_encoding = positional_encoding.repeat([B, 1, 1])\n",
        "        x = torch.cat([x, positional_encoding], axis=-1)\n",
        "        x = x.transpose(1, 2)\n",
        "        x = self.c1(x)\n",
        "        x = x.transpose(1, 2)\n",
        "        for encoding_layer in self.encoding_layers:\n",
        "            x = encoding_layer(x)\n",
        "        q = self.q.unsqueeze(0).repeat([B, 1, 1])\n",
        "        x = self.decoding_layer(q, x, x)\n",
        "        x = x.squeeze(1)\n",
        "        x = self.fc1(x)\n",
        "        return x\n",
        "\n",
        "class EncodingLayer(nn.Module):\n",
        "    def __init__(self, num_hidden, num_heads):\n",
        "        super().__init__()\n",
        "        self.att = MultiHeadAttention(embed_dim=num_hidden, num_heads=num_heads).to(device)\n",
        "        self.c1 = nn.Conv1d(num_hidden, 2 * num_hidden, 1)\n",
        "        self.c2 = nn.Conv1d(2 * num_hidden, num_hidden, 1)\n",
        "        self.norm1 = nn.LayerNorm([num_hidden])\n",
        "        self.norm2 = nn.LayerNorm([num_hidden])\n",
        "\n",
        "    def forward(self, x):\n",
        "        x = self.att(x, x, x)\n",
        "        x = self.norm1(x)\n",
        "        x1 = x.transpose(1, 2)\n",
        "        x1 = self.c1(x1)\n",
        "        x1 = F.relu(x1)\n",
        "        x1 = self.c2(x1)\n",
        "        x1 = F.relu(x1)\n",
        "        x1 = x1.transpose(1, 2)\n",
        "        x += x1\n",
        "        x = self.norm2(x)\n",
        "        return x\n",
        "\n",
        "# The following two classes implement Attention and Multi-Head Attention from\n",
        "# the paper \"Attention Is All You Need\" by Ashish Vaswani et al.\n",
        "\n",
        "################################################################################\n",
        "# The attention mechanism tries to mimic cognitive attention.\n",
        "# As we know, RNNs do not remember dependencies in long sequences and\n",
        "# they also are not capable of running in parallel. Attention addresses these issues.\n",
        "# It applies multi-head self-attention. Self-attention is a linear combination of X.\n",
        "# Matrices Q, K, and V act like key-value in associative memory.\n",
        "# Q as a query is used to find best matched within the K (keys) and then\n",
        "# the output of that is used as a key to retrieve the desired data from V matrix (Values).\n",
        "# In the following lines, we will implement a naive version of Multi-Head Attention.\n",
        "################################################################################\n",
        "\n",
        "class Attention(nn.Module):\n",
        "    def __init__(self, input_dim, embed_dim):\n",
        "        super().__init__()\n",
        "        self.WK = nn.Linear(input_dim, embed_dim, bias=False)\n",
        "        # It has the same effects of the following code but more concise\n",
        "        # WK = torch.empty(input_dim, embed_dim)\n",
        "        # nn.init.normal_(WK)\n",
        "        # self.WK = nn.Parameter(WK, requires_grad=True)\n",
        "        self.WQ = nn.Linear(input_dim, embed_dim, bias=False)\n",
        "        self.WV = nn.Linear(input_dim, embed_dim, bias=False)\n",
        "        self.embed_dim = embed_dim\n",
        "\n",
        "    def forward(self, q, k, v):\n",
        "        # q, k, and v are batch-first\n",
        "        # First, it calculates a trainable linear projection of q, k and v.\n",
        "        # Then calculates the scaled dot-product attention as described in\n",
        "        # Section 3.2.1 of the paper.\n",
        "        q, k, v = self.WQ(q), self.WK(k), self.WV(v)\n",
        "        q = q/(self.embed_dim)**.5\n",
        "        scores = torch.matmul(q, k.transpose(1, 2))\n",
        "        softmax = F.softmax(scores, dim = -1)\n",
        "        result = torch.matmul(softmax, v)\n",
        "        return result\n",
        "\n",
        "class MultiHeadAttention(nn.Module):\n",
        "    def __init__(self, embed_dim, num_heads):\n",
        "        super().__init__()\n",
        "        self.dk = embed_dim//num_heads\n",
        "        self.atts = [Attention(embed_dim, self.dk).to(device) for _ in range(num_heads)]\n",
        "        self.WO = nn.Linear(embed_dim, embed_dim, bias=False)\n",
        "        self.num_heads = num_heads\n",
        "\n",
        "    def forward(self, q, k, v):\n",
        "        # q, k, and v are batch-first\n",
        "        # Implemented multi-head attention as described in Section 3.2.2 of the paper.\n",
        "        heads = [self.atts[i](q,k,v) for i in range(self.num_heads)]\n",
        "        result = self.WO(torch.cat(heads, dim=-1))\n",
        "        return result"
      ],
      "execution_count": 4,
      "outputs": []
    },
    {
      "cell_type": "markdown",
      "source": [
        "# Training the Model"
      ],
      "metadata": {
        "id": "GRwtt1_G9Fnq"
      }
    },
    {
      "cell_type": "code",
      "source": [
        "# Instantiate network, loss function and optimizer\n",
        "\n",
        "net = Net().to(device)\n",
        "criterion = nn.CrossEntropyLoss()\n",
        "optimizer = torch.optim.SGD(net.parameters(), lr=0.005, momentum=0.9)\n",
        "\n",
        "acc_hist, loss_hist = [], []\n",
        "best_net, best_acc = None, 0\n",
        "\n",
        "# Train the network\n",
        "net.train()\n",
        "start = time.time()\n",
        "for i in range(1, NUM_TRAINING_STEPS+1):\n",
        "    inputs, labels = get_data_sample(BATCH_SIZE)\n",
        "    inputs, labels = inputs.to(device), labels.to(device)\n",
        "\n",
        "    optimizer.zero_grad()\n",
        "    outputs = net(inputs)\n",
        "    loss = criterion(outputs, labels)\n",
        "    loss.backward()\n",
        "    optimizer.step()\n",
        "    accuracy = (torch.argmax(outputs, axis=-1) == labels).float().mean()\n",
        "\n",
        "    if accuracy.item() > best_acc:\n",
        "      best_net = net\n",
        "      best_acc = accuracy.item()\n",
        "\n",
        "    if i==1 or i%100==0:\n",
        "        print(f\"\\r[{i}/{NUM_TRAINING_STEPS}] loss: {loss.item():.3f}, accuracy/best_acc: {accuracy.item():.3f}/{best_acc:.3f}, elapsed time:{timeSince(start)}\", end='')\n",
        "        acc_hist.append(accuracy.item())\n",
        "        loss_hist.append(loss.item())\n",
        "\n",
        "# Accuracy and loss of the last run\n",
        "acc_hist.append(accuracy.item()) \n",
        "loss_hist.append(loss.item())\n",
        "\n",
        "print(f\"\\nFinal accuracy: {accuracy.item():.3f}, expected {1.0:.3f}\")"
      ],
      "metadata": {
        "colab": {
          "base_uri": "https://localhost:8080/"
        },
        "id": "3xz5lN9z5mOM",
        "outputId": "62ce20f7-f80b-4391-93f1-2ed6a155c276"
      },
      "execution_count": 5,
      "outputs": [
        {
          "output_type": "stream",
          "name": "stdout",
          "text": [
            "[25000/25000] loss: 0.087, accuracy/best_acc: 0.984/1.000, elapsed time: 4m 59s\n",
            "Final accuracy: 0.984, expected 1.000\n"
          ]
        }
      ]
    },
    {
      "cell_type": "markdown",
      "source": [
        "## Plotting Loss and Accuracy"
      ],
      "metadata": {
        "id": "c_rFfcls9KgR"
      }
    },
    {
      "cell_type": "code",
      "source": [
        "fig, ax = plt.subplots()\n",
        "fig.set_size_inches(19, 4)\n",
        "ax.set_xlabel('Epochs', fontsize=16)\n",
        "ax.set_ylabel('Accuracy/Loss', fontsize=14)\n",
        "plt.plot(acc_hist, 'b', label='accuracy')\n",
        "plt.plot(loss_hist, 'r', label='loss')\n",
        "plt.plot([1, len(acc_hist)], [1,1], 'gray')\n",
        "fig.canvas.draw() # in order to get the text of xticks\n",
        "labels = [int(item.get_text().replace('−','-'))*100 for item in ax.get_xticklabels()]\n",
        "ax.set_xticklabels(labels)\n",
        "plt.legend()\n",
        "plt.show()"
      ],
      "metadata": {
        "id": "bWgdqIRkqceS",
        "colab": {
          "base_uri": "https://localhost:8080/",
          "height": 284
        },
        "outputId": "7bfd6b31-19e6-45e1-f4b5-32bdedab7e4c"
      },
      "execution_count": 6,
      "outputs": [
        {
          "output_type": "display_data",
          "data": {
            "text/plain": [
              "<Figure size 1368x288 with 1 Axes>"
            ],
            "image/png": "[encoded data removed]"
          },
          "metadata": {
            "needs_background": "light"
          }
        }
      ]
    },
    {
      "cell_type": "markdown",
      "source": [
        "# Testing the Model"
      ],
      "metadata": {
        "id": "JxpTlJxw9AWd"
      }
    },
    {
      "cell_type": "code",
      "source": [
        "best_net.eval()\n",
        "ins, labs= get_data_sample(20)\n",
        "ins, labs = ins.to(device), labs.to(device)\n",
        "outs = best_net(ins)\n",
        "\n",
        "seq = [''.join([(str(_.item())+' ' if i==1 else str(_.item())) for i,_ in enumerate(row)]) for row in ins.cpu()]\n",
        "gt = [str(_.item()) for _ in labs]\n",
        "pr = [str(_.item()) for _ in torch.argmax(outs, axis=-1)]\n",
        "\n",
        "print(f\"XY [1-5]+ GT Pr\")\n",
        "print('\\n'.join(['  '.join(item) for item in zip(seq, gt, pr)]))"
      ],
      "metadata": {
        "colab": {
          "base_uri": "https://localhost:8080/"
        },
        "id": "1VmOmqCs4GGq",
        "outputId": "73db2635-6b95-48a6-c091-26878be97f5b"
      },
      "execution_count": 7,
      "outputs": [
        {
          "output_type": "stream",
          "name": "stdout",
          "text": [
            "XY [1-5]+ GT Pr\n",
            "34 42231  5  5\n",
            "31 04043  6  6\n",
            "42 12302  3  3\n",
            "22 40414  5  5\n",
            "12 01240  5  5\n",
            "43 23300  3  3\n",
            "32 21323  5  5\n",
            "40 34420  6  6\n",
            "14 30234  4  4\n",
            "44 23322  5  5\n",
            "44 24301  5  5\n",
            "23 44201  6  6\n",
            "21 24312  6  6\n",
            "01 04102  6  6\n",
            "42 34122  4  4\n",
            "01 30414  5  5\n",
            "31 23221  5  5\n",
            "01 34422  5  5\n",
            "01 42033  6  6\n",
            "41 21323  4  4\n"
          ]
        }
      ]
    }
  ]
}